{
 "cells": [
  {
   "cell_type": "code",
   "execution_count": 15,
   "id": "8ec9a1fe-66c5-4ea5-85b3-e5dffc348801",
   "metadata": {
    "scrolled": true
   },
   "outputs": [],
   "source": [
    "import csv\n",
    "import pandas as pd\n",
    "\n",
    "\n",
    "def DocClean(Document_name):\n",
    "    txt_file = pd.read_csv(Document_name, skiprows = [0], usecols = [\"Product Name\", \"Variance\"])\n",
    "    data = pd.DataFrame(txt_file) \n",
    "    data = data.dropna()\n",
    "\n",
    "    return data"
   ]
  }
 ],
 "metadata": {
  "kernelspec": {
   "display_name": "Python 3 (ipykernel)",
   "language": "python",
   "name": "python3"
  },
  "language_info": {
   "codemirror_mode": {
    "name": "ipython",
    "version": 3
   },
   "file_extension": ".py",
   "mimetype": "text/x-python",
   "name": "python",
   "nbconvert_exporter": "python",
   "pygments_lexer": "ipython3",
   "version": "3.11.5"
  }
 },
 "nbformat": 4,
 "nbformat_minor": 5
}
